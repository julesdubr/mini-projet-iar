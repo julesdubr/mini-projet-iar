{
 "cells": [
  {
   "cell_type": "code",
   "execution_count": 1,
   "metadata": {},
   "outputs": [],
   "source": [
    "import gym\n",
    "\n",
    "from stable_baselines3 import DQN, PPO, TD3, SAC\n",
    "from stable_baselines3.common.evaluation import evaluate_policy\n",
    "from sb3_contrib import QRDQN, TQC\n",
    "\n",
    "ALGOS = {\n",
    "    \"dqn\": DQN,\n",
    "    \"ppo\": PPO,\n",
    "    \"sac\": SAC,\n",
    "    \"td3\": TD3,\n",
    "    \"qrdqn\": QRDQN,\n",
    "    \"tqc\": TQC,\n",
    "}\n"
   ]
  },
  {
   "cell_type": "code",
   "execution_count": 7,
   "metadata": {},
   "outputs": [],
   "source": [
    "algo = \"sac\"\n",
    "continuous = True\n"
   ]
  },
  {
   "cell_type": "code",
   "execution_count": 8,
   "metadata": {},
   "outputs": [
    {
     "name": "stdout",
     "output_type": "stream",
     "text": [
      "Wrapping the env with a `Monitor` wrapper\n",
      "Wrapping the env in a DummyVecEnv.\n"
     ]
    }
   ],
   "source": [
    "env = gym.make(f'LunarLander{\"Continuous\" if continuous else \"\"}-v2')\n",
    "model = ALGOS[algo].load(f'logs/{\"continuous\" if continuous else \"discrete\"}/{algo}/best_model', env=env)\n"
   ]
  },
  {
   "cell_type": "code",
   "execution_count": 4,
   "metadata": {},
   "outputs": [
    {
     "data": {
      "text/plain": [
       "(271.22640593, 23.15283939055878)"
      ]
     },
     "execution_count": 4,
     "metadata": {},
     "output_type": "execute_result"
    }
   ],
   "source": [
    "mean_reward, std_reward = evaluate_policy(model, model.get_env(), n_eval_episodes=200)\n",
    "mean_reward, std_reward\n"
   ]
  },
  {
   "cell_type": "code",
   "execution_count": 11,
   "metadata": {},
   "outputs": [],
   "source": [
    "obs = env.reset()\n",
    "for i in range(500):\n",
    "    action, _ = model.predict(obs, deterministic=True)\n",
    "    obs, reward, done, info = env.step(action)\n",
    "    env.render()\n",
    "env.close()\n"
   ]
  }
 ],
 "metadata": {
  "kernelspec": {
   "display_name": "Python 3.9.12 64-bit",
   "language": "python",
   "name": "python3"
  },
  "language_info": {
   "codemirror_mode": {
    "name": "ipython",
    "version": 3
   },
   "file_extension": ".py",
   "mimetype": "text/x-python",
   "name": "python",
   "nbconvert_exporter": "python",
   "pygments_lexer": "ipython3",
   "version": "3.9.12"
  },
  "orig_nbformat": 4,
  "vscode": {
   "interpreter": {
    "hash": "a094b89469df4117159496550a75e1ef6dfce4ed77bce29eb93efb1f0342af31"
   }
  }
 },
 "nbformat": 4,
 "nbformat_minor": 2
}
